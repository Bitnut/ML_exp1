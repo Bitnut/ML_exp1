{
 "cells": [
  {
   "cell_type": "code",
   "execution_count": 22,
   "metadata": {
    "scrolled": false
   },
   "outputs": [
    {
     "name": "stdout",
     "output_type": "stream",
     "text": [
      "339\n",
      "first loss is:  336.234479384\n",
      "loss is:  10.4351485082\n",
      "167\n",
      "first loss is:  12.6313803636\n",
      "loss is:  10.6741290259\n"
     ]
    },
    {
     "data": {
      "image/png": "[encoded data removed]",
      "text/plain": [
       "<matplotlib.figure.Figure at 0x7f9700351208>"
      ]
     },
     "metadata": {},
     "output_type": "display_data"
    }
   ],
   "source": [
    "# %load /home/picher/AnacondaProjects/test.py\n",
    "from sklearn.externals.joblib import Memory\n",
    "from sklearn.datasets import load_svmlight_file\n",
    "from sklearn.model_selection import train_test_split\n",
    "from numpy import *\n",
    "import numpy as np\n",
    "import pylab as pl\n",
    "mem = Memory(\"./mycache\")\n",
    "# 导入数据\n",
    "@mem.cache\n",
    "def get_data():\n",
    "    data = load_svmlight_file(\"/home/picher/workSpace/ML_exp/housing_scale.txt\",13,dtype=float64)\n",
    "    return data[0], data[1]\n",
    "# 处理数据格式等\n",
    "w = ini_para(14)\n",
    "x, y = get_data()\n",
    "x = x.toarray()\n",
    "b = np.ones((506,1))\n",
    "x = np.c_[x,b]\n",
    "y = np.transpose([y])\n",
    "w = w.transpose(1,0)\n",
    "x_train, x_test, y_train, y_test = train_test_split(x, y, test_size=0.33)\n",
    "# 数组用于存放训练集和测试集的训练结果，用于画图\n",
    "compute_times_train = []\n",
    "LOSS_train = []\n",
    "compute_times_test = []\n",
    "LOSS_test = []\n",
    "# 线性回归\n",
    "\n",
    "w_train = linear_regression(w,x_train,y_train,LOSS_train,compute_times_train)\n",
    "# 测试一下训练出来的参数效果\n",
    "linear_regression(w_train,x_test,y_test,LOSS_test,compute_times_test)\n",
    "# 以下代码作图\n",
    "pl.plot(compute_times_train, LOSS_train)# use pylab to plot x and y\n",
    "pl.plot(compute_times_test, LOSS_test)# use pylab to plot x and y\n",
    "pl.title('linear_regression')# give plot a title\n",
    "pl.xlabel('times')# make axis labels\n",
    "pl.ylabel('loss')\n",
    "pl.show()# show the plot on the screen"
   ]
  },
  {
   "cell_type": "code",
   "execution_count": 12,
   "metadata": {
    "collapsed": true
   },
   "outputs": [],
   "source": [
    "def model(w,x):\n",
    "    result = np.dot(x,w)\n",
    "    return result"
   ]
  },
  {
   "cell_type": "code",
   "execution_count": 13,
   "metadata": {
    "collapsed": true
   },
   "outputs": [],
   "source": [
    "def linear_regression(w,x,y,LOSS,compute_times):\n",
    "    eta = 0.0002\n",
    "    loss = 100\n",
    "    times = 0\n",
    "    size = x.shape[0]\n",
    "    print(size)\n",
    "    while times <3000:\n",
    "        y1 = model(w,x)\n",
    "        loss = square_loss(y1,y,size)\n",
    "        LOSS.append(loss)\n",
    "        G1 = gradiant(x,y,w)\n",
    "        w = refresh(w,eta,G1)\n",
    "        times = times + 1\n",
    "        compute_times.append(times)\n",
    "        if times == 1:\n",
    "            print('first loss is: ', loss)\n",
    "    print('loss is: ', loss)\n",
    "    return w"
   ]
  },
  {
   "cell_type": "code",
   "execution_count": 14,
   "metadata": {
    "collapsed": true
   },
   "outputs": [],
   "source": [
    "def square_loss(y1,y,size):\n",
    "    minus = y1-y\n",
    "    out = np.multiply(minus,minus)\n",
    "    result = out.sum()\n",
    "    result = result/(size*2)\n",
    "    return result"
   ]
  },
  {
   "cell_type": "code",
   "execution_count": 15,
   "metadata": {
    "collapsed": true
   },
   "outputs": [],
   "source": [
    "def refresh(w_old,eta,G1):\n",
    "    w = w_old + np.dot(eta,G1)\n",
    "    return w"
   ]
  },
  {
   "cell_type": "code",
   "execution_count": 16,
   "metadata": {
    "collapsed": true
   },
   "outputs": [],
   "source": [
    "def gradiant(x,y,w):\n",
    "    grad = np.dot((x.transpose((1,0))),y)-np.dot(np.dot((x.transpose((1,0))),x),w)\n",
    "    return grad"
   ]
  },
  {
   "cell_type": "code",
   "execution_count": 21,
   "metadata": {
    "collapsed": true
   },
   "outputs": [],
   "source": [
    "def ini_para(feature_num):\n",
    "    prng = random.seed(1)\n",
    "    # 全 0\n",
    "    #w = zeros((1,feature_num), dtype = float)\n",
    "    # 随机\n",
    "    #w1 = np.random.random([1,feature_num])\n",
    "    # 卡方分布\n",
    "    w2 = np.random.chisquare(1,size=(1,feature_num))\n",
    "    # 正态分布\n",
    "    #w3 = np.random.randn(1,feature_num)\n",
    "    # 打印参数\n",
    "    # print (w)\n",
    "    #print(w.dtype)\n",
    "    #print (w1)\n",
    "    #print(w1.dtype)\n",
    "    #print (w2)\n",
    "    #print(w2.dtype)\n",
    "    #print (w3)\n",
    "    #print(w3.dtype)\n",
    "    return w2"
   ]
  },
  {
   "cell_type": "code",
   "execution_count": null,
   "metadata": {
    "collapsed": true
   },
   "outputs": [],
   "source": []
  }
 ],
 "metadata": {
  "kernelspec": {
   "display_name": "Python 3",
   "language": "python",
   "name": "python3"
  },
  "language_info": {
   "codemirror_mode": {
    "name": "ipython",
    "version": 3
   },
   "file_extension": ".py",
   "mimetype": "text/x-python",
   "name": "python",
   "nbconvert_exporter": "python",
   "pygments_lexer": "ipython3",
   "version": "3.6.3"
  }
 },
 "nbformat": 4,
 "nbformat_minor": 2
}
