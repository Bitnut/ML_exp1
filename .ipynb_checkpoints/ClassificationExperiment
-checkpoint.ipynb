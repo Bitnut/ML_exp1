{
 "cells": [
  {
   "cell_type": "code",
   "execution_count": 12,
   "metadata": {},
   "outputs": [
    {
     "name": "stdout",
     "output_type": "stream",
     "text": [
      "first right percent is:  100\n",
      "right percent is:  0.8636363636363636\n",
      "first right percent is:  100\n",
      "right percent is:  0.8571428571428571\n"
     ]
    },
    {
     "data": {
      "image/png": "[encoded data removed]",
      "text/plain": [
       "<matplotlib.figure.Figure at 0x7f9eb78d4358>"
      ]
     },
     "metadata": {},
     "output_type": "display_data"
    },
    {
     "data": {
      "image/png": "[encoded data removed]",
      "text/plain": [
       "<matplotlib.figure.Figure at 0x7f9eb780a780>"
      ]
     },
     "metadata": {},
     "output_type": "display_data"
    }
   ],
   "source": [
    "from sklearn.externals.joblib import Memory\n",
    "from sklearn.datasets import load_svmlight_file\n",
    "from sklearn.model_selection import train_test_split\n",
    "from numpy import *\n",
    "import numpy as np\n",
    "import pylab as pl\n",
    "mem = Memory(\"./mycache\")\n",
    "# 导入数据\n",
    "@mem.cache\n",
    "def get_data():\n",
    "    data = load_svmlight_file(\"/home/picher/workSpace/ML_exp/australian_scale.txt\",14,dtype=float64)\n",
    "    return data[0], data[1]\n",
    "# 处理数据格式等\n",
    "w = ini_para(15)\n",
    "x, y = get_data()\n",
    "x = x.toarray()\n",
    "b = np.ones((690,1))\n",
    "x = np.c_[x,b]\n",
    "y = np.transpose([y])\n",
    "w = w.transpose(1,0)\n",
    "x_train, x_test, y_train, y_test = train_test_split(x, y, test_size=0.33)\n",
    "# 数组用于存放训练集和测试集的训练结果，用于画图\n",
    "# 次数\n",
    "compute_times_train = []\n",
    "compute_times_test = []\n",
    "# 正确率\n",
    "right_train = []\n",
    "right_test = []\n",
    "# loss\n",
    "loss_pic_train = []\n",
    "loss_pic_test = []\n",
    "# 分类器训练\n",
    "w_train = linear_classification(x_train,y_train,w,right_train,compute_times_train, loss_pic_train)\n",
    "# 用训练集训练出来的 w_train 测试\n",
    "linear_classification(x_train,y_train,w_train,right_test,compute_times_test, loss_pic_test)\n",
    "\n",
    "# 以下为作图部分\n",
    "# 图一展示准确率随训练次数的变化\n",
    "pl.figure(1)\n",
    "pl.plot(compute_times_train, right_train)# use pylab to plot x and y\n",
    "pl.plot(compute_times_test, right_test)# use pylab to plot x and y\n",
    "pl.title('linear_classification')# give plot a title\n",
    "pl.xlabel('times')# make axis labels\n",
    "pl.ylabel('rightpercent')\n",
    "\n",
    "# 图二展示 hinge_loss 随训练次数的变化\n",
    "pl.figure(2)\n",
    "pl.plot(compute_times_train, loss_pic_train)# use pylab to plot x and y\n",
    "pl.plot(compute_times_train, loss_pic_test)# use pylab to plot x and y\n",
    "pl.title('linear_classification')# give plot a title\n",
    "pl.xlabel('times')# make axis labels\n",
    "pl.ylabel('loss')\n",
    "pl.show()# show the plot on the screen"
   ]
  },
  {
   "cell_type": "code",
   "execution_count": 3,
   "metadata": {
    "collapsed": true
   },
   "outputs": [],
   "source": [
    "def ini_para(feature_num):\n",
    "    prng = random.seed(1)\n",
    "    # 全 0\n",
    "    #w = zeros((1,feature_num), dtype = float)\n",
    "    # 随机\n",
    "    w1 = np.random.random([1,feature_num])\n",
    "    # 卡方分布\n",
    "    #w2 = np.random.chisquare(1,size=(1,feature_num))\n",
    "    # 正态分布\n",
    "    w3 = np.random.randn(1,feature_num)\n",
    "    # 打印参数，测试用\n",
    "    #print (w)\n",
    "    #print(w1.dtype)\n",
    "    return w3"
   ]
  },
  {
   "cell_type": "code",
   "execution_count": 4,
   "metadata": {
    "collapsed": true
   },
   "outputs": [],
   "source": [
    "def hinge_loss(y1,y,size):\n",
    "    one_array = np.ones((size,1))\n",
    "    minus = one_array - y*y1\n",
    "    zero = np.zeros((size,1))\n",
    "    out = np.maximum(minus, zero)\n",
    "    result = out.sum()/(2*size)\n",
    "    return result"
   ]
  },
  {
   "cell_type": "code",
   "execution_count": 5,
   "metadata": {
    "collapsed": true
   },
   "outputs": [],
   "source": [
    "def model(w,x):\n",
    "    result = np.dot(x,w)\n",
    "    return result"
   ]
  },
  {
   "cell_type": "code",
   "execution_count": 6,
   "metadata": {
    "collapsed": true
   },
   "outputs": [],
   "source": [
    "def linear_classification(x,y,w,RIGHT,compute_times,loss_pic):        \n",
    "    eta = 0.00009\n",
    "    loss = 100\n",
    "    times = 0\n",
    "    size = x.shape[0]\n",
    "    right = 0\n",
    "    while times <1000:\n",
    "        y1 = model(w,x)\n",
    "        right = right_percent(y,y1)\n",
    "        RIGHT.append(right)\n",
    "        loss1 = hinge_loss(y1,y,size)\n",
    "        loss_pic.append(loss1)\n",
    "        gw = compute_gw(y1,y,x)\n",
    "        Dw = w + 0.78*(gw.transpose(1,0))\n",
    "        w = refresh(w,eta,Dw)\n",
    "        times = times + 1\n",
    "        compute_times.append(times)\n",
    "        if times == 1:\n",
    "            print('first right percent is: ', loss)\n",
    "    print('right percent is: ', right)\n",
    "    return w"
   ]
  },
  {
   "cell_type": "code",
   "execution_count": 7,
   "metadata": {
    "collapsed": true
   },
   "outputs": [],
   "source": [
    "def model(w,x):\n",
    "    result = np.dot(x,w)\n",
    "    return result"
   ]
  },
  {
   "cell_type": "code",
   "execution_count": 8,
   "metadata": {
    "collapsed": true
   },
   "outputs": [],
   "source": [
    "def refresh(w_old,eta,G1):\n",
    "    w = w_old - np.dot(eta,G1)\n",
    "    return w"
   ]
  },
  {
   "cell_type": "code",
   "execution_count": 9,
   "metadata": {
    "collapsed": true
   },
   "outputs": [],
   "source": [
    "def compute_gw(y1,y,x):\n",
    "    gw = zeros((1,15))\n",
    "    for i in range(0, len(y1)):\n",
    "        loss = 1 - y[i]*y1[i]\n",
    "        if loss >=0:\n",
    "            gw = gw +(-y[i]*x[i])\n",
    "    result = np.array(gw)\n",
    "    return result"
   ]
  },
  {
   "cell_type": "code",
   "execution_count": 10,
   "metadata": {
    "collapsed": true
   },
   "outputs": [],
   "source": [
    "def right_percent(y,y1):\n",
    "    compute = zeros((690,1))\n",
    "    right = 0\n",
    "    shape = y.shape[0]\n",
    "    for i in range(0, len(y1)):\n",
    "        if y1[i]>=0:\n",
    "            compute[i]=1\n",
    "        else:\n",
    "            compute[i]=-1\n",
    "    for k in range(0, len(y1)):\n",
    "        if compute[k]==y[k]:\n",
    "            right = right+1\n",
    "    result = right/shape\n",
    "    return result"
   ]
  },
  {
   "cell_type": "code",
   "execution_count": null,
   "metadata": {
    "collapsed": true
   },
   "outputs": [],
   "source": []
  },
  {
   "cell_type": "code",
   "execution_count": null,
   "metadata": {
    "collapsed": true
   },
   "outputs": [],
   "source": []
  }
 ],
 "metadata": {
  "kernelspec": {
   "display_name": "Python 3",
   "language": "python",
   "name": "python3"
  },
  "language_info": {
   "codemirror_mode": {
    "name": "ipython",
    "version": 3
   },
   "file_extension": ".py",
   "mimetype": "text/x-python",
   "name": "python",
   "nbconvert_exporter": "python",
   "pygments_lexer": "ipython3",
   "version": "3.6.3"
  }
 },
 "nbformat": 4,
 "nbformat_minor": 2
}
